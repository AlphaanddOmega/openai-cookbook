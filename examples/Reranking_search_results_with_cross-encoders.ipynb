{
 "cells": [
  {
   "cell_type": "markdown",
   "id": "7f30b8b2",
   "metadata": {},
   "source": [
    "# Reranking search results with cross-encoders\n",
    "\n",
    "This notebook takes you through examples of using a cross-encoder to re-rank search results.\n",
    "\n",
    "This is a common use case with our customers, where you've implemented semantic search using embeddings (produced using a [Bi-encoder](https://www.sbert.net/examples/applications/retrieve_rerank/README.html#retrieval-bi-encoder)) but the results are not exactly what you need. A possible cause is that there is some business rule you can use to rerank the documents such as how recent or how popular a document is. \n",
    "\n",
    "However, often there are subtle domain-specific rules that help determine relevancy, and this is where a cross-encoder can be useful. Cross-encoders are more accurate than bi-encoders but they don't scale well, so using them to re-order a shortened list returned by semantic search is the ideal use case.\n",
    "\n",
    "We'll use text-davinci-003 with logprobs to build a cross-encoder here.\n",
    "\n",
    "This notebook drew on this great [article](https://weaviate.io/blog/cross-encoders-as-reranker) by Weaviate, and this [excellent explanation](https://www.sbert.net/examples/applications/cross-encoder/README.html) of bi-encoders vs. cross-encoders from Sentence Transformers."
   ]
  },
  {
   "cell_type": "code",
   "execution_count": null,
   "id": "71cb361f",
   "metadata": {},
   "outputs": [],
   "source": [
    "!pip install openai\n",
    "!pip install arxiv\n",
    "!pip install tenacity\n",
    "!pip install pandas\n",
    "!pip install tiktoken"
   ]
  },
  {
   "cell_type": "code",
   "execution_count": null,
   "id": "90f3b829",
   "metadata": {},
   "outputs": [],
   "source": [
    "import arxiv\n",
    "from math import exp\n",
    "import openai\n",
    "import pandas as pd\n",
    "from tenacity import retry, wait_random_exponential, stop_after_attempt\n",
    "import tiktoken"
   ]
  },
  {
   "cell_type": "markdown",
   "id": "fdada886",
   "metadata": {},
   "source": [
    "## Search\n",
    "\n",
    "We'll use the arXiv search service for this example, but this step could be performed by any search service you have. The key item to consider is over-fetching slightly to capture all the potentially relevant documents, before re-sorting them.\n",
    "\n",
    "To illustrate our point we'll sort by \"SubmittedDate\" rather than \"Relevance\" so we get some irrelevant results in the top 5."
   ]
  },
  {
   "cell_type": "code",
   "execution_count": null,
   "id": "bf16c893",
   "metadata": {},
   "outputs": [],
   "source": [
    "query = \"how do bi-encoders work for sentence embeddings\"\n",
    "search = arxiv.Search(\n",
    "    query=query, max_results=20, sort_by=arxiv.SortCriterion.Relevance\n",
    ")"
   ]
  },
  {
   "cell_type": "code",
   "execution_count": null,
   "id": "4b020a1b",
   "metadata": {},
   "outputs": [],
   "source": [
    "result_list = []\n",
    "\n",
    "for result in search.results():\n",
    "    result_dict = {}\n",
    "\n",
    "    result_dict.update({\"title\": result.title})\n",
    "    result_dict.update({\"summary\": result.summary})\n",
    "\n",
    "    # Taking the first url provided\n",
    "    result_dict.update({\"article_url\": [x.href for x in result.links][0]})\n",
    "    result_dict.update({\"pdf_url\": [x.href for x in result.links][1]})\n",
    "    result_list.append(result_dict)"
   ]
  },
  {
   "cell_type": "code",
   "execution_count": null,
   "id": "4fdce882",
   "metadata": {},
   "outputs": [],
   "source": [
    "result_list[0]"
   ]
  },
  {
   "cell_type": "code",
   "execution_count": null,
   "id": "7e6abb5b",
   "metadata": {},
   "outputs": [],
   "source": [
    "for i, result in enumerate(result_list):\n",
    "    print(f\"{i + 1}: {result['title']}\")"
   ]
  },
  {
   "cell_type": "markdown",
   "id": "d5727678",
   "metadata": {},
   "source": [
    "## Cross-encoder\n",
    "\n",
    "We'll create a cross-encoder using the ```Completions``` endpoint - the key factors to consider here are:\n",
    "- Make your examples domain-specific - the strength of cross-encoders comes when you fine-tune them to your domain.\n",
    "- There is a trade-off between how many potential examples to re-rank vs. processing speed. Consider batching and parallel processing cross-encoder requests to aid user experience.\n",
    "\n",
    "The steps here are:\n",
    "- Build a prompt to assess relevance and provide few-shot examples to tune it to your domain\n",
    "- Return the classification of yes/no as well as the ```logprobs```\n",
    "- Rerank the results by the ```logprobs``` keyed on Yes\n",
    "- Add a ```logit bias``` for the tokens for Yes and No to decrease the likelihood of any other tokens occurring"
   ]
  },
  {
   "cell_type": "code",
   "execution_count": null,
   "id": "47be038d",
   "metadata": {},
   "outputs": [],
   "source": [
    "tokens = ['Yes','No']\n",
    "tokenizer = tiktoken.get_encoding(\"gpt2\")\n",
    "ids = [tokenizer.encode(token) for token in tokens]\n",
    "ids[0],ids[1]"
   ]
  },
  {
   "cell_type": "code",
   "execution_count": null,
   "id": "4fdf8c11",
   "metadata": {},
   "outputs": [],
   "source": [
    "prompt = '''\n",
    "You are an Assistant responsible for helping detect whether the retrieved document is relevant to the query. For a given input, you need to output a single token: \"Yes\" or \"No\" indicating the retrieved document is relevant to the query.\n",
    "\n",
    "Examples:\n",
    "\"\"\"\n",
    "Query: How to plant a tree?\n",
    "Retrieved document: Cars were invented in 1886, when German inventor Carl Benz patented his Benz Patent-Motorwagen.[3][4][5] Cars became widely available during the 20th century. One of the first cars affordable by the masses was the 1908 Model T, an American car manufactured by the Ford Motor Company. Cars were rapidly adopted in the US, where they replaced horse-drawn carriages.[6] In Europe and other parts of the world, demand for automobiles did not increase until after World War II.[7] The car is considered an essential part of the developed economy.\n",
    "Relevant to the query?\n",
    "Assistant: No\n",
    "\n",
    "Query: Has the coronavirus vaccine been approved?\n",
    "Retrieved document: The Pfizer-BioNTech COVID-19 vaccine was approved for emergency use in the United States on December 11, 2020.\n",
    "Relevant to the query?\n",
    "Assistant: Yes\n",
    "\n",
    "Query: What is the capital of France?\n",
    "Retrieved document: Paris, France's capital, is a major European city and a global center for art, fashion, gastronomy and culture. Its 19th-century cityscape is crisscrossed by wide boulevards and the River Seine. Beyond such landmarks as the Eiffel Tower and the 12th-century, Gothic Notre-Dame cathedral, the city is known for its cafe culture and designer boutiques along the Rue du Faubourg Saint-Honoré. \n",
    "Relevant to the query?\n",
    "Assistant: Yes\n",
    "\n",
    "Query: What are some papers to learn about PPO reinforcement learning?\n",
    "Retrieved document: Proximal Policy Optimization and its Dynamic Version for Sequence Generation: In sequence generation task, many works use policy gradient for model optimization to tackle the intractable backpropagation issue when maximizing the non-differentiable evaluation metrics or fooling the discriminator in adversarial learning. In this paper, we replace policy gradient with proximal policy optimization (PPO), which is a proved more efficient reinforcement learning algorithm, and propose a dynamic approach for PPO (PPO-dynamic). We demonstrate the efficacy of PPO and PPO-dynamic on conditional sequence generation tasks including synthetic experiment and chit-chat chatbot. The results show that PPO and PPO-dynamic can beat policy gradient by stability and performance.\n",
    "Relevant to the query?\n",
    "Assistant: Yes\n",
    "\n",
    "Query: Explain sentence embeddings\n",
    "Retrieved document: Inside the bubble: exploring the environments of reionisation-era Lyman-α emitting galaxies with JADES and FRESCO: We present a study of the environments of 16 Lyman-α emitting galaxies (LAEs) in the reionisation era (5.8<z<8) identified by JWST/NIRSpec as part of the JWST Advanced Deep Extragalactic Survey (JADES). Unless situated in sufficiently (re)ionised regions, Lyman-α emission from these galaxies would be strongly absorbed by neutral gas in the intergalactic medium (IGM). We conservatively estimate sizes of the ionised regions required to reconcile the relatively low Lyman-α velocity offsets (ΔvLyα<300kms−1) with moderately high Lyman-α escape fractions (fesc,Lyα>5%) observed in our sample of LAEs, indicating the presence of ionised ``bubbles'' with physical sizes of the order of 0.1pMpc≲Rion≲1pMpc in a patchy reionisation scenario where the bubbles are embedded in a fully neutral IGM. Around half of the LAEs in our sample are found to coincide with large-scale galaxy overdensities seen in FRESCO at z∼5.8-5.9 and z∼7.3, suggesting Lyman-α transmission is strongly enhanced in such overdense regions, and underlining the importance of LAEs as tracers of the first large-scale ionised bubbles. Considering only spectroscopically confirmed galaxies, we find our sample of UV-faint LAEs (MUV≳−20mag) and their direct neighbours are generally not able to produce the required ionised regions based on the Lyman-α transmission properties, suggesting lower-luminosity sources likely play an important role in carving out these bubbles. These observations demonstrate the combined power of JWST multi-object and slitless spectroscopy in acquiring a unique view of the early stages of Cosmic Reionisation via the most distant LAEs.\n",
    "Relevant to the query?\n",
    "Assistant: No\n",
    "\"\"\"\n",
    "End of Examples\n",
    "\n",
    "Begin!\n",
    "\n",
    "Query: {query}\n",
    "Retrieved document: {document}\n",
    "Relevant to the query?\n",
    "Assistant:\n",
    "'''\n",
    "\n",
    "\n",
    "@retry(wait=wait_random_exponential(min=1, max=40), stop=stop_after_attempt(3))\n",
    "def rerank_document(query, document, output_list):\n",
    "    response = openai.Completion.create(\n",
    "        model=\"text-davinci-003\",\n",
    "        prompt=prompt.format(query=query, document=content),\n",
    "        temperature=0,\n",
    "        logprobs=1,\n",
    "        logit_bias={\n",
    "            5297: 1,\n",
    "            2949: 1\n",
    "        }\n",
    "    )\n",
    "\n",
    "    output_list.append(\n",
    "        (\n",
    "            query,\n",
    "            document,\n",
    "            response[\"choices\"][0][\"text\"],\n",
    "            response[\"choices\"][0][\"logprobs\"][\"token_logprobs\"][0],\n",
    "        )\n",
    "    )"
   ]
  },
  {
   "cell_type": "code",
   "execution_count": null,
   "id": "753cd363",
   "metadata": {},
   "outputs": [],
   "source": [
    "content = result_list[0][\"title\"] + \": \" + result_list[0][\"summary\"]\n",
    "\n",
    "# Set logprobs to 1 so we return the most likely token with the likelihood\n",
    "response = openai.Completion.create(\n",
    "    model=\"text-davinci-003\",\n",
    "    prompt=prompt.format(query=query, document=content),\n",
    "    temperature=0,\n",
    "    logprobs=1,\n",
    "    logit_bias={\n",
    "            5297: 1,\n",
    "            2949: 1\n",
    "        }\n",
    ")"
   ]
  },
  {
   "cell_type": "code",
   "execution_count": null,
   "id": "7efef2fe",
   "metadata": {},
   "outputs": [],
   "source": [
    "result = response[\"choices\"][0]\n",
    "print(f\"Result was {result['text']}\")\n",
    "print(f\"Logprobs was {result['logprobs']['token_logprobs'][0]}\")\n",
    "print(\"\\nBelow is the full logprobs object\\n\\n\")\n",
    "print(result[\"logprobs\"])"
   ]
  },
  {
   "cell_type": "code",
   "execution_count": null,
   "id": "7683b6f7",
   "metadata": {},
   "outputs": [],
   "source": [
    "output_list = []\n",
    "for x in result_list:\n",
    "    content = x[\"title\"] + \": \" + x[\"summary\"]\n",
    "\n",
    "    try:\n",
    "        rerank_document(query, document=content, output_list=output_list)\n",
    "\n",
    "    except Exception as e:\n",
    "        print(e)"
   ]
  },
  {
   "cell_type": "code",
   "execution_count": null,
   "id": "57576313",
   "metadata": {},
   "outputs": [],
   "source": [
    "output_list[:10]"
   ]
  },
  {
   "cell_type": "code",
   "execution_count": null,
   "id": "29a4dc08",
   "metadata": {},
   "outputs": [],
   "source": [
    "output_df = pd.DataFrame(\n",
    "    output_list, columns=[\"query\", \"document\", \"prediction\", \"logprobs\"]\n",
    ").reset_index()\n",
    "# Use exp() to convert logprobs into probability\n",
    "output_df[\"probability\"] = output_df[\"logprobs\"].apply(exp)\n",
    "# Reorder based on likelihood of being Yes\n",
    "output_df[\"cleaned_probability\"] = output_df.apply(\n",
    "    lambda x: x[\"probability\"] * -1 + 1\n",
    "    if x[\"prediction\"] == \"No\"\n",
    "    else x[\"probability\"],\n",
    "    axis=1,\n",
    ")\n",
    "output_df.head()"
   ]
  },
  {
   "cell_type": "code",
   "execution_count": null,
   "id": "a647f120",
   "metadata": {},
   "outputs": [],
   "source": [
    "# Return reranked results\n",
    "reranked_df = output_df.sort_values(by=[\"cleaned_probability\"], ascending=False).reset_index()\n",
    "reranked_df.head(10)"
   ]
  },
  {
   "cell_type": "code",
   "execution_count": null,
   "id": "16823e20",
   "metadata": {},
   "outputs": [],
   "source": [
    "reranked_df['document'][0]"
   ]
  },
  {
   "cell_type": "markdown",
   "id": "f372d311",
   "metadata": {},
   "source": [
    "## Consolidation\n",
    "\n",
    "We've used the ```Completions``` endpoint from OpenAI to build our cross-encoder, but this area is well-served by the open-source community. [Here](https://huggingface.co/cross-encoder/mmarco-mMiniLMv2-L12-H384-v1) is an example from HuggingFace, for example.\n",
    "\n",
    "We hope you find this useful for tuning your search use cases, and look forward to seeing what you build."
   ]
  }
 ],
 "metadata": {
  "kernelspec": {
   "display_name": "openai_test",
   "language": "python",
   "name": "openai_test"
  },
  "language_info": {
   "codemirror_mode": {
    "name": "ipython",
    "version": 3
   },
   "file_extension": ".py",
   "mimetype": "text/x-python",
   "name": "python",
   "nbconvert_exporter": "python",
   "pygments_lexer": "ipython3",
   "version": "3.10.11"
  }
 },
 "nbformat": 4,
 "nbformat_minor": 5
}
